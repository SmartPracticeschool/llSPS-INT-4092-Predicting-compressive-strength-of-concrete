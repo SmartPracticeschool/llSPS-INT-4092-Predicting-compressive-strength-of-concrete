{
 "cells": [
  {
   "cell_type": "code",
   "execution_count": 1,
   "metadata": {},
   "outputs": [
    {
     "name": "stdout",
     "output_type": "stream",
     "text": [
      "C:\\Users\\User\\Desktop\\Internship\n"
     ]
    }
   ],
   "source": [
    "%cd C:\\Users\\User\\Desktop\\Internship"
   ]
  },
  {
   "cell_type": "code",
   "execution_count": 2,
   "metadata": {},
   "outputs": [],
   "source": [
    "import numpy as np\n",
    "from flask import Flask, request, render_template\n",
    "import pickle"
   ]
  },
  {
   "cell_type": "code",
   "execution_count": 3,
   "metadata": {},
   "outputs": [
    {
     "name": "stderr",
     "output_type": "stream",
     "text": [
      "E:\\Anaconda\\lib\\site-packages\\sklearn\\base.py:329: UserWarning: Trying to unpickle estimator DecisionTreeRegressor from version 0.22.2.post1 when using version 0.23.1. This might lead to breaking code or invalid results. Use at your own risk.\n",
      "  warnings.warn(\n",
      "E:\\Anaconda\\lib\\site-packages\\sklearn\\base.py:329: UserWarning: Trying to unpickle estimator RandomForestRegressor from version 0.22.2.post1 when using version 0.23.1. This might lead to breaking code or invalid results. Use at your own risk.\n",
      "  warnings.warn(\n"
     ]
    }
   ],
   "source": [
    "app = Flask(__name__)\n",
    "model = pickle.load(open('prediction_model.sav', 'rb'))"
   ]
  },
  {
   "cell_type": "code",
   "execution_count": 4,
   "metadata": {},
   "outputs": [],
   "source": [
    "@app.route('/')\n",
    "def home() -> 'html':\n",
    "    return render_template('index.html')"
   ]
  },
  {
   "cell_type": "code",
   "execution_count": 5,
   "metadata": {},
   "outputs": [],
   "source": [
    "@app.route('/strength', methods = ['POST'])\n",
    "def predict():\n",
    "\n",
    "    cement = float(request.form['cement'])\n",
    "    slag = float(request.form['slag'])\n",
    "    ash = float(request.form['ash'])\n",
    "    water = float(request.form['water'])\n",
    "    plastic = float(request.form['plastic'])\n",
    "    coarse = float(request.form['coarse'])\n",
    "    fine = float(request.form['fine'])\n",
    "    age = float(request.form['age'])\n",
    "\n",
    "    X = [[cement], [slag], [ash], [water], [plastic], [coarse], [fine], [age]]\n",
    "    X = np.transpose(X)\n",
    "\n",
    "    prediction = model.predict(X)\n",
    "\n",
    "    return render_template('index.html', prediction = prediction)\n"
   ]
  },
  {
   "cell_type": "code",
   "execution_count": null,
   "metadata": {},
   "outputs": [
    {
     "name": "stdout",
     "output_type": "stream",
     "text": [
      " * Serving Flask app \"__main__\" (lazy loading)\n",
      " * Environment: production\n",
      "   WARNING: This is a development server. Do not use it in a production deployment.\n",
      "   Use a production WSGI server instead.\n",
      " * Debug mode: off\n"
     ]
    },
    {
     "name": "stderr",
     "output_type": "stream",
     "text": [
      " * Running on http://127.0.0.1:5000/ (Press CTRL+C to quit)\n",
      "127.0.0.1 - - [25/Nov/2020 17:35:16] \"\u001b[37mGET / HTTP/1.1\u001b[0m\" 200 -\n",
      "127.0.0.1 - - [25/Nov/2020 17:35:16] \"\u001b[37mGET /static/css/style.css HTTP/1.1\u001b[0m\" 200 -\n",
      "127.0.0.1 - - [25/Nov/2020 17:35:16] \"\u001b[37mGET /static/fonts/poppins/Poppins-Regular.ttf HTTP/1.1\u001b[0m\" 200 -\n",
      "127.0.0.1 - - [25/Nov/2020 17:35:16] \"\u001b[37mGET /static/fonts/poppins/Poppins-Medium.ttf HTTP/1.1\u001b[0m\" 200 -\n",
      "127.0.0.1 - - [25/Nov/2020 17:35:16] \"\u001b[33mGET /favicon.ico HTTP/1.1\u001b[0m\" 404 -\n",
      "127.0.0.1 - - [25/Nov/2020 17:35:47] \"\u001b[37mPOST /strength HTTP/1.1\u001b[0m\" 200 -\n",
      "127.0.0.1 - - [25/Nov/2020 17:36:15] \"\u001b[37mPOST /strength HTTP/1.1\u001b[0m\" 200 -\n",
      "127.0.0.1 - - [25/Nov/2020 17:36:20] \"\u001b[37mPOST /strength HTTP/1.1\u001b[0m\" 200 -\n"
     ]
    }
   ],
   "source": [
    "if __name__ == '__main__':\n",
    "    app.run()"
   ]
  }
 ],
 "metadata": {
  "kernelspec": {
   "display_name": "Python 3",
   "language": "python",
   "name": "python3"
  },
  "language_info": {
   "codemirror_mode": {
    "name": "ipython",
    "version": 3
   },
   "file_extension": ".py",
   "mimetype": "text/x-python",
   "name": "python",
   "nbconvert_exporter": "python",
   "pygments_lexer": "ipython3",
   "version": "3.8.3"
  }
 },
 "nbformat": 4,
 "nbformat_minor": 4
}
